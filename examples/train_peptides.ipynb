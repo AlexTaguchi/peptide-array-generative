{
 "cells": [
  {
   "cell_type": "markdown",
   "metadata": {},
   "source": [
    "# Train Generative Model on Peptide Binding Dataset\n",
    "### Import libraries"
   ]
  },
  {
   "cell_type": "code",
   "execution_count": 1,
   "metadata": {},
   "outputs": [],
   "source": [
    "import sys\n",
    "sys.path.append('..')\n",
    "from peptide_array_generative.datasets.peptides import PeptideDataset\n",
    "from peptide_array_generative.models.film import FiLMNet\n",
    "from peptide_array_generative.models.mlp import MLP\n",
    "from peptide_array_generative.diffusion.schedules import CosineSchedule\n",
    "from peptide_array_generative.diffusion.categorical import MultinomialDiffusion\n",
    "from peptide_array_generative.trainers.regression import RegressionTrainer\n",
    "import random\n",
    "from torch.utils.data import DataLoader"
   ]
  },
  {
   "cell_type": "markdown",
   "metadata": {},
   "source": [
    "### Create dataloaders"
   ]
  },
  {
   "cell_type": "code",
   "execution_count": 2,
   "metadata": {},
   "outputs": [],
   "source": [
    "random_seed = random.randint(0, 1e9)\n",
    "data_loader_train = DataLoader(PeptideDataset(\n",
    "    dataset_path='../data/peptides/Average_Uninfected.csv',\n",
    "    train=True,\n",
    "    remove_gsg=True,\n",
    "    random_seed=random_seed\n",
    "), batch_size=32, shuffle=True)\n",
    "data_loader_test = DataLoader(PeptideDataset(\n",
    "    dataset_path='../data/peptides/Average_Uninfected.csv',\n",
    "    train=False,\n",
    "    remove_gsg=True,\n",
    "    random_seed=random_seed\n",
    "), batch_size=1000, shuffle=True)"
   ]
  },
  {
   "cell_type": "markdown",
   "metadata": {},
   "source": [
    "### Train validation model"
   ]
  },
  {
   "cell_type": "code",
   "execution_count": 3,
   "metadata": {},
   "outputs": [
    {
     "name": "stderr",
     "output_type": "stream",
     "text": [
      "2025-03-22 22:35:29 - Epoch 0\n",
      "100%|██████████| 3458/3458 [00:34<00:00, 99.56it/s, loss=0.0916] \n",
      "2025-03-22 22:36:04 - Test loss: 0.04657\n",
      "2025-03-22 22:36:04 - Epoch 1\n",
      "100%|██████████| 3458/3458 [00:31<00:00, 110.19it/s, loss=0.0396]\n",
      "2025-03-22 22:36:36 - Test loss: 0.04412\n",
      "2025-03-22 22:36:36 - Epoch 2\n",
      "100%|██████████| 3458/3458 [00:31<00:00, 109.95it/s, loss=0.0228]\n",
      "2025-03-22 22:37:07 - Test loss: 0.04358\n",
      "2025-03-22 22:37:07 - Epoch 3\n",
      "100%|██████████| 3458/3458 [00:31<00:00, 108.92it/s, loss=0.026] \n",
      "2025-03-22 22:37:39 - Test loss: 0.04369\n",
      "2025-03-22 22:37:39 - Epoch 4\n",
      "100%|██████████| 3458/3458 [00:31<00:00, 109.21it/s, loss=0.037] \n",
      "2025-03-22 22:38:11 - Test loss: 0.04532\n",
      "2025-03-22 22:38:11 - Epoch 5\n",
      "100%|██████████| 3458/3458 [00:31<00:00, 109.01it/s, loss=0.0313]\n",
      "2025-03-22 22:38:43 - Test loss: 0.04126\n",
      "2025-03-22 22:38:43 - Epoch 6\n",
      "100%|██████████| 3458/3458 [00:32<00:00, 105.98it/s, loss=0.0562]\n",
      "2025-03-22 22:39:15 - Test loss: 0.03891\n",
      "2025-03-22 22:39:16 - Epoch 7\n",
      "100%|██████████| 3458/3458 [00:31<00:00, 109.02it/s, loss=0.0432]\n",
      "2025-03-22 22:39:47 - Test loss: 0.04575\n",
      "2025-03-22 22:39:47 - Epoch 8\n",
      "100%|██████████| 3458/3458 [00:32<00:00, 107.36it/s, loss=0.0231]\n",
      "2025-03-22 22:40:20 - Test loss: 0.04497\n",
      "2025-03-22 22:40:20 - Epoch 9\n",
      "100%|██████████| 3458/3458 [00:31<00:00, 108.34it/s, loss=0.0552]\n",
      "2025-03-22 22:40:52 - Test loss: 0.04406\n",
      "2025-03-22 22:40:52 - Epoch 10\n",
      "100%|██████████| 3458/3458 [00:33<00:00, 104.47it/s, loss=0.0306]\n",
      "2025-03-22 22:41:25 - Test loss: 0.04307\n"
     ]
    }
   ],
   "source": [
    "sequences, labels = next(iter(data_loader_train))\n",
    "neural_network = MLP(\n",
    "    input_dim=sequences.shape[1] * sequences.shape[2],\n",
    "    hidden_dim=256,\n",
    "    output_dim=1\n",
    ")\n",
    "validation_model = RegressionTrainer(\n",
    "    data_loader_train=data_loader_train,\n",
    "    data_loader_test=data_loader_test,\n",
    "    neural_network=neural_network\n",
    ")\n",
    "validation_model.train()"
   ]
  },
  {
   "cell_type": "markdown",
   "metadata": {},
   "source": [
    "### Train generative model"
   ]
  },
  {
   "cell_type": "code",
   "execution_count": 6,
   "metadata": {},
   "outputs": [
    {
     "name": "stderr",
     "output_type": "stream",
     "text": [
      "2025-03-22 22:54:34 - Epoch 0\n",
      "100%|██████████| 3458/3458 [01:07<00:00, 50.99it/s, loss=0.149] \n",
      "99it [00:00, 138.35it/s]\n",
      "2025-03-22 22:55:43 - Validation loss: 0.56969\n",
      "2025-03-22 22:55:43 - Epoch 1\n",
      "100%|██████████| 3458/3458 [01:05<00:00, 53.04it/s, loss=0.103] \n",
      "99it [00:00, 231.68it/s]\n",
      "2025-03-22 22:56:49 - Validation loss: 0.40164\n",
      "2025-03-22 22:56:49 - Epoch 2\n",
      "100%|██████████| 3458/3458 [01:05<00:00, 52.71it/s, loss=0.144] \n",
      "99it [00:00, 231.84it/s]\n",
      "2025-03-22 22:57:55 - Validation loss: 0.25522\n",
      "2025-03-22 22:57:55 - Epoch 3\n",
      "100%|██████████| 3458/3458 [01:05<00:00, 52.46it/s, loss=0.187] \n",
      "99it [00:00, 241.31it/s]\n",
      "2025-03-22 22:59:02 - Validation loss: 0.16235\n",
      "2025-03-22 22:59:02 - Epoch 4\n",
      "100%|██████████| 3458/3458 [01:02<00:00, 54.98it/s, loss=0.183] \n",
      "99it [00:00, 242.90it/s]\n",
      "2025-03-22 23:00:05 - Validation loss: 0.16017\n",
      "2025-03-22 23:00:05 - Epoch 5\n",
      "100%|██████████| 3458/3458 [01:04<00:00, 53.59it/s, loss=0.0979]\n",
      "99it [00:00, 234.22it/s]\n",
      "2025-03-22 23:01:10 - Validation loss: 0.14822\n",
      "2025-03-22 23:01:10 - Epoch 6\n",
      "100%|██████████| 3458/3458 [01:04<00:00, 53.76it/s, loss=0.124] \n",
      "99it [00:00, 195.37it/s]\n",
      "2025-03-22 23:02:15 - Validation loss: 0.18474\n",
      "2025-03-22 23:02:15 - Epoch 7\n",
      "100%|██████████| 3458/3458 [01:04<00:00, 53.45it/s, loss=0.141] \n",
      "99it [00:00, 244.49it/s]\n",
      "2025-03-22 23:03:20 - Validation loss: 0.21701\n",
      "2025-03-22 23:03:20 - Epoch 8\n",
      "100%|██████████| 3458/3458 [01:05<00:00, 52.80it/s, loss=0.127] \n",
      "99it [00:00, 224.26it/s]\n",
      "2025-03-22 23:04:26 - Validation loss: 0.12764\n",
      "2025-03-22 23:04:26 - Epoch 9\n",
      "100%|██████████| 3458/3458 [01:06<00:00, 52.03it/s, loss=0.185] \n",
      "99it [00:00, 221.45it/s]\n",
      "2025-03-22 23:05:33 - Validation loss: 0.16279\n",
      "2025-03-22 23:05:33 - Epoch 10\n",
      "100%|██████████| 3458/3458 [01:06<00:00, 52.25it/s, loss=0.445] \n",
      "99it [00:00, 198.98it/s]\n",
      "2025-03-22 23:06:40 - Validation loss: 0.16496\n"
     ]
    }
   ],
   "source": [
    "neural_network = FiLMNet(\n",
    "    input_dim=sequences.shape[1] * sequences.shape[2],\n",
    "    hidden_dim=256,\n",
    "    output_dim=sequences.shape[1] * sequences.shape[2],\n",
    "    condition_dim=labels.shape[-1],\n",
    "    hidden_layers=1\n",
    ")\n",
    "noise_schedule = CosineSchedule(num_steps=100)\n",
    "MultinomialDiffusion(\n",
    "    data_loader=data_loader_train,\n",
    "    neural_network=neural_network,\n",
    "    noise_schedule=noise_schedule\n",
    ").train(validation_model=validation_model.model)"
   ]
  }
 ],
 "metadata": {
  "kernelspec": {
   "display_name": "base",
   "language": "python",
   "name": "python3"
  },
  "language_info": {
   "codemirror_mode": {
    "name": "ipython",
    "version": 3
   },
   "file_extension": ".py",
   "mimetype": "text/x-python",
   "name": "python",
   "nbconvert_exporter": "python",
   "pygments_lexer": "ipython3",
   "version": "3.9.12"
  }
 },
 "nbformat": 4,
 "nbformat_minor": 2
}
